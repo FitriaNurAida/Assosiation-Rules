{
 "cells": [
  {
   "cell_type": "markdown",
   "metadata": {},
   "source": [
    "# ASSOCIATION RULES"
   ]
  },
  {
   "cell_type": "markdown",
   "metadata": {},
   "source": [
    "Oleh : Fitria Nur Aida "
   ]
  },
  {
   "cell_type": "code",
   "execution_count": 1,
   "metadata": {},
   "outputs": [],
   "source": [
    "import pandas as pd\n",
    "import numpy as np"
   ]
  },
  {
   "cell_type": "code",
   "execution_count": 2,
   "metadata": {},
   "outputs": [],
   "source": [
    "#import dataset\n",
    "data=pd.read_csv(\"online_retail.csv\")                                                                                                                                                                                                                                                                                                                                                                                                                   "
   ]
  },
  {
   "cell_type": "code",
   "execution_count": 3,
   "metadata": {},
   "outputs": [
    {
     "data": {
      "text/html": [
       "<div>\n",
       "<style scoped>\n",
       "    .dataframe tbody tr th:only-of-type {\n",
       "        vertical-align: middle;\n",
       "    }\n",
       "\n",
       "    .dataframe tbody tr th {\n",
       "        vertical-align: top;\n",
       "    }\n",
       "\n",
       "    .dataframe thead th {\n",
       "        text-align: right;\n",
       "    }\n",
       "</style>\n",
       "<table border=\"1\" class=\"dataframe\">\n",
       "  <thead>\n",
       "    <tr style=\"text-align: right;\">\n",
       "      <th></th>\n",
       "      <th>InvoiceNo</th>\n",
       "      <th>StockCode</th>\n",
       "      <th>Description</th>\n",
       "      <th>Quantity</th>\n",
       "      <th>InvoiceDate</th>\n",
       "      <th>UnitPrice</th>\n",
       "      <th>CustomerID</th>\n",
       "      <th>Country</th>\n",
       "    </tr>\n",
       "  </thead>\n",
       "  <tbody>\n",
       "    <tr>\n",
       "      <th>0</th>\n",
       "      <td>536365</td>\n",
       "      <td>85123A</td>\n",
       "      <td>WHITE HANGING HEART T-LIGHT HOLDER</td>\n",
       "      <td>6</td>\n",
       "      <td>12/1/10 08:26</td>\n",
       "      <td>2.55</td>\n",
       "      <td>17850.0</td>\n",
       "      <td>United Kingdom</td>\n",
       "    </tr>\n",
       "    <tr>\n",
       "      <th>1</th>\n",
       "      <td>536365</td>\n",
       "      <td>71053</td>\n",
       "      <td>WHITE METAL LANTERN</td>\n",
       "      <td>6</td>\n",
       "      <td>12/1/10 08:26</td>\n",
       "      <td>3.39</td>\n",
       "      <td>17850.0</td>\n",
       "      <td>United Kingdom</td>\n",
       "    </tr>\n",
       "    <tr>\n",
       "      <th>2</th>\n",
       "      <td>536365</td>\n",
       "      <td>84406B</td>\n",
       "      <td>CREAM CUPID HEARTS COAT HANGER</td>\n",
       "      <td>8</td>\n",
       "      <td>12/1/10 08:26</td>\n",
       "      <td>2.75</td>\n",
       "      <td>17850.0</td>\n",
       "      <td>United Kingdom</td>\n",
       "    </tr>\n",
       "    <tr>\n",
       "      <th>3</th>\n",
       "      <td>536365</td>\n",
       "      <td>84029G</td>\n",
       "      <td>KNITTED UNION FLAG HOT WATER BOTTLE</td>\n",
       "      <td>6</td>\n",
       "      <td>12/1/10 08:26</td>\n",
       "      <td>3.39</td>\n",
       "      <td>17850.0</td>\n",
       "      <td>United Kingdom</td>\n",
       "    </tr>\n",
       "    <tr>\n",
       "      <th>4</th>\n",
       "      <td>536365</td>\n",
       "      <td>84029E</td>\n",
       "      <td>RED WOOLLY HOTTIE WHITE HEART.</td>\n",
       "      <td>6</td>\n",
       "      <td>12/1/10 08:26</td>\n",
       "      <td>3.39</td>\n",
       "      <td>17850.0</td>\n",
       "      <td>United Kingdom</td>\n",
       "    </tr>\n",
       "  </tbody>\n",
       "</table>\n",
       "</div>"
      ],
      "text/plain": [
       "  InvoiceNo StockCode                          Description  Quantity  \\\n",
       "0    536365    85123A   WHITE HANGING HEART T-LIGHT HOLDER         6   \n",
       "1    536365     71053                  WHITE METAL LANTERN         6   \n",
       "2    536365    84406B       CREAM CUPID HEARTS COAT HANGER         8   \n",
       "3    536365    84029G  KNITTED UNION FLAG HOT WATER BOTTLE         6   \n",
       "4    536365    84029E       RED WOOLLY HOTTIE WHITE HEART.         6   \n",
       "\n",
       "     InvoiceDate  UnitPrice  CustomerID         Country  \n",
       "0  12/1/10 08:26       2.55     17850.0  United Kingdom  \n",
       "1  12/1/10 08:26       3.39     17850.0  United Kingdom  \n",
       "2  12/1/10 08:26       2.75     17850.0  United Kingdom  \n",
       "3  12/1/10 08:26       3.39     17850.0  United Kingdom  \n",
       "4  12/1/10 08:26       3.39     17850.0  United Kingdom  "
      ]
     },
     "execution_count": 3,
     "metadata": {},
     "output_type": "execute_result"
    }
   ],
   "source": [
    "data.head(5)"
   ]
  },
  {
   "cell_type": "code",
   "execution_count": 4,
   "metadata": {},
   "outputs": [
    {
     "data": {
      "text/plain": [
       "(541909, 8)"
      ]
     },
     "execution_count": 4,
     "metadata": {},
     "output_type": "execute_result"
    }
   ],
   "source": [
    "data.shape"
   ]
  },
  {
   "cell_type": "markdown",
   "metadata": {},
   "source": [
    "## PreProcessing"
   ]
  },
  {
   "cell_type": "code",
   "execution_count": 5,
   "metadata": {},
   "outputs": [
    {
     "name": "stdout",
     "output_type": "stream",
     "text": [
      "<class 'pandas.core.frame.DataFrame'>\n",
      "RangeIndex: 541909 entries, 0 to 541908\n",
      "Data columns (total 8 columns):\n",
      "InvoiceNo      541909 non-null object\n",
      "StockCode      541909 non-null object\n",
      "Description    540455 non-null object\n",
      "Quantity       541909 non-null int64\n",
      "InvoiceDate    541909 non-null object\n",
      "UnitPrice      541909 non-null float64\n",
      "CustomerID     406829 non-null float64\n",
      "Country        541909 non-null object\n",
      "dtypes: float64(2), int64(1), object(5)\n",
      "memory usage: 33.1+ MB\n"
     ]
    }
   ],
   "source": [
    "data.info()"
   ]
  },
  {
   "cell_type": "code",
   "execution_count": 6,
   "metadata": {},
   "outputs": [
    {
     "data": {
      "text/html": [
       "<div>\n",
       "<style scoped>\n",
       "    .dataframe tbody tr th:only-of-type {\n",
       "        vertical-align: middle;\n",
       "    }\n",
       "\n",
       "    .dataframe tbody tr th {\n",
       "        vertical-align: top;\n",
       "    }\n",
       "\n",
       "    .dataframe thead th {\n",
       "        text-align: right;\n",
       "    }\n",
       "</style>\n",
       "<table border=\"1\" class=\"dataframe\">\n",
       "  <thead>\n",
       "    <tr style=\"text-align: right;\">\n",
       "      <th></th>\n",
       "      <th>Jumlah Missing</th>\n",
       "    </tr>\n",
       "  </thead>\n",
       "  <tbody>\n",
       "    <tr>\n",
       "      <th>InvoiceNo</th>\n",
       "      <td>0</td>\n",
       "    </tr>\n",
       "    <tr>\n",
       "      <th>StockCode</th>\n",
       "      <td>0</td>\n",
       "    </tr>\n",
       "    <tr>\n",
       "      <th>Description</th>\n",
       "      <td>1454</td>\n",
       "    </tr>\n",
       "    <tr>\n",
       "      <th>Quantity</th>\n",
       "      <td>0</td>\n",
       "    </tr>\n",
       "    <tr>\n",
       "      <th>InvoiceDate</th>\n",
       "      <td>0</td>\n",
       "    </tr>\n",
       "    <tr>\n",
       "      <th>UnitPrice</th>\n",
       "      <td>0</td>\n",
       "    </tr>\n",
       "    <tr>\n",
       "      <th>CustomerID</th>\n",
       "      <td>135080</td>\n",
       "    </tr>\n",
       "    <tr>\n",
       "      <th>Country</th>\n",
       "      <td>0</td>\n",
       "    </tr>\n",
       "  </tbody>\n",
       "</table>\n",
       "</div>"
      ],
      "text/plain": [
       "             Jumlah Missing\n",
       "InvoiceNo                 0\n",
       "StockCode                 0\n",
       "Description            1454\n",
       "Quantity                  0\n",
       "InvoiceDate               0\n",
       "UnitPrice                 0\n",
       "CustomerID           135080\n",
       "Country                   0"
      ]
     },
     "execution_count": 6,
     "metadata": {},
     "output_type": "execute_result"
    }
   ],
   "source": [
    "# Deteksi Missing Value\n",
    "pd.DataFrame(np.sum(data.isnull()),columns=[\"Jumlah Missing\"])"
   ]
  },
  {
   "cell_type": "markdown",
   "metadata": {},
   "source": [
    "> Missing value dalam variabel Description merupakan data produk yang tidak diketahui atau tidak tercatat nama produknya dalam suatu transaksi pembelian. Oleh karena itu dilakukan penghapusan (drop) pada data missing value tersebut. Sedangkan missing value pada variabel CustomerID merupakan data identitas pelanggan yang tidak diketahui ID pelanggannya. ID pelanggan yang tidak diketahui tidak mempengaruhi data transaksi pada variabel InvoiceNo dan Description sehingga missing value tersebut tidak diatasi."
   ]
  },
  {
   "cell_type": "code",
   "execution_count": 7,
   "metadata": {},
   "outputs": [],
   "source": [
    "# Penanganan Missing Value dengan Menghapus data missing\n",
    "new=data.dropna(subset=[\"Description\"])"
   ]
  },
  {
   "cell_type": "code",
   "execution_count": 8,
   "metadata": {},
   "outputs": [
    {
     "data": {
      "text/html": [
       "<div>\n",
       "<style scoped>\n",
       "    .dataframe tbody tr th:only-of-type {\n",
       "        vertical-align: middle;\n",
       "    }\n",
       "\n",
       "    .dataframe tbody tr th {\n",
       "        vertical-align: top;\n",
       "    }\n",
       "\n",
       "    .dataframe thead th {\n",
       "        text-align: right;\n",
       "    }\n",
       "</style>\n",
       "<table border=\"1\" class=\"dataframe\">\n",
       "  <thead>\n",
       "    <tr style=\"text-align: right;\">\n",
       "      <th></th>\n",
       "      <th>Jumlah Missing</th>\n",
       "    </tr>\n",
       "  </thead>\n",
       "  <tbody>\n",
       "    <tr>\n",
       "      <th>InvoiceNo</th>\n",
       "      <td>0</td>\n",
       "    </tr>\n",
       "    <tr>\n",
       "      <th>StockCode</th>\n",
       "      <td>0</td>\n",
       "    </tr>\n",
       "    <tr>\n",
       "      <th>Description</th>\n",
       "      <td>0</td>\n",
       "    </tr>\n",
       "    <tr>\n",
       "      <th>Quantity</th>\n",
       "      <td>0</td>\n",
       "    </tr>\n",
       "    <tr>\n",
       "      <th>InvoiceDate</th>\n",
       "      <td>0</td>\n",
       "    </tr>\n",
       "    <tr>\n",
       "      <th>UnitPrice</th>\n",
       "      <td>0</td>\n",
       "    </tr>\n",
       "    <tr>\n",
       "      <th>CustomerID</th>\n",
       "      <td>133626</td>\n",
       "    </tr>\n",
       "    <tr>\n",
       "      <th>Country</th>\n",
       "      <td>0</td>\n",
       "    </tr>\n",
       "  </tbody>\n",
       "</table>\n",
       "</div>"
      ],
      "text/plain": [
       "             Jumlah Missing\n",
       "InvoiceNo                 0\n",
       "StockCode                 0\n",
       "Description               0\n",
       "Quantity                  0\n",
       "InvoiceDate               0\n",
       "UnitPrice                 0\n",
       "CustomerID           133626\n",
       "Country                   0"
      ]
     },
     "execution_count": 8,
     "metadata": {},
     "output_type": "execute_result"
    }
   ],
   "source": [
    "pd.DataFrame(np.sum(new.isnull()),columns=[\"Jumlah Missing\"])"
   ]
  },
  {
   "cell_type": "markdown",
   "metadata": {},
   "source": [
    "> Variabel InvoiceNo terdapat data yang mengandung huruf C dan pada variabel Quantity terdapat nilai negatif yang menandakan adanya pembatalan transaksi, oleh karena itu dilakukan penghapusan data yang mengandung huruf C pada variabel InvoiceNo dan nilai negatif pada variabel Quantity."
   ]
  },
  {
   "cell_type": "code",
   "execution_count": 10,
   "metadata": {},
   "outputs": [],
   "source": [
    "#drop InvoiceNo yang mengandung \"C\" \n",
    "new['InvoiceNo'] = new['InvoiceNo'].astype('str')\n",
    "new=new[~new['InvoiceNo'].str.contains('C')]\n",
    "#drop InvoiceNo yang mengandung \"Quantity\" < 0\n",
    "new=new[~new['Quantity']<0]"
   ]
  },
  {
   "cell_type": "code",
   "execution_count": 11,
   "metadata": {},
   "outputs": [
    {
     "data": {
      "text/plain": [
       "(530693, 8)"
      ]
     },
     "execution_count": 11,
     "metadata": {},
     "output_type": "execute_result"
    }
   ],
   "source": [
    "new.shape"
   ]
  },
  {
   "cell_type": "code",
   "execution_count": 12,
   "metadata": {},
   "outputs": [
    {
     "data": {
      "text/plain": [
       "0         536365\n",
       "1         536365\n",
       "2         536365\n",
       "3         536365\n",
       "4         536365\n",
       "5         536365\n",
       "6         536365\n",
       "7         536366\n",
       "8         536366\n",
       "9         536367\n",
       "10        536367\n",
       "11        536367\n",
       "12        536367\n",
       "13        536367\n",
       "14        536367\n",
       "15        536367\n",
       "16        536367\n",
       "17        536367\n",
       "18        536367\n",
       "19        536367\n",
       "20        536367\n",
       "21        536368\n",
       "22        536368\n",
       "23        536368\n",
       "24        536368\n",
       "25        536369\n",
       "26        536370\n",
       "27        536370\n",
       "28        536370\n",
       "29        536370\n",
       "           ...  \n",
       "541879    581585\n",
       "541880    581585\n",
       "541881    581585\n",
       "541882    581585\n",
       "541883    581585\n",
       "541884    581585\n",
       "541885    581585\n",
       "541886    581585\n",
       "541887    581585\n",
       "541888    581585\n",
       "541889    581585\n",
       "541890    581586\n",
       "541891    581586\n",
       "541892    581586\n",
       "541893    581586\n",
       "541894    581587\n",
       "541895    581587\n",
       "541896    581587\n",
       "541897    581587\n",
       "541898    581587\n",
       "541899    581587\n",
       "541900    581587\n",
       "541901    581587\n",
       "541902    581587\n",
       "541903    581587\n",
       "541904    581587\n",
       "541905    581587\n",
       "541906    581587\n",
       "541907    581587\n",
       "541908    581587\n",
       "Name: InvoiceNo, Length: 530693, dtype: object"
      ]
     },
     "execution_count": 12,
     "metadata": {},
     "output_type": "execute_result"
    }
   ],
   "source": [
    "new[\"InvoiceNo\"]"
   ]
  },
  {
   "cell_type": "code",
   "execution_count": 13,
   "metadata": {},
   "outputs": [
    {
     "name": "stdout",
     "output_type": "stream",
     "text": [
      "<class 'pandas.core.frame.DataFrame'>\n",
      "Int64Index: 530693 entries, 0 to 541908\n",
      "Data columns (total 8 columns):\n",
      "InvoiceNo      530693 non-null object\n",
      "StockCode      530693 non-null object\n",
      "Description    530693 non-null object\n",
      "Quantity       530693 non-null int64\n",
      "InvoiceDate    530693 non-null object\n",
      "UnitPrice      530693 non-null float64\n",
      "CustomerID     397924 non-null float64\n",
      "Country        530693 non-null object\n",
      "dtypes: float64(2), int64(1), object(5)\n",
      "memory usage: 36.4+ MB\n"
     ]
    }
   ],
   "source": [
    "new.info()"
   ]
  },
  {
   "cell_type": "markdown",
   "metadata": {},
   "source": [
    "## Set Transactions Data"
   ]
  },
  {
   "cell_type": "code",
   "execution_count": 14,
   "metadata": {},
   "outputs": [],
   "source": [
    "#Set Transactions\n",
    "group_InvoiceNo=new.groupby('InvoiceNo')\n",
    "transactions=[]\n",
    "for name,group in group_InvoiceNo:\n",
    "    transactions.append(list(group[\"Description\"].map(str)))"
   ]
  },
  {
   "cell_type": "markdown",
   "metadata": {},
   "source": [
    "## Market Basket Analysis dengan Association Rules Apriori"
   ]
  },
  {
   "cell_type": "markdown",
   "metadata": {},
   "source": [
    "Install terlebih dahulu package \"apyori\""
   ]
  },
  {
   "cell_type": "code",
   "execution_count": 15,
   "metadata": {},
   "outputs": [],
   "source": [
    "from apyori import apriori"
   ]
  },
  {
   "cell_type": "code",
   "execution_count": 16,
   "metadata": {},
   "outputs": [],
   "source": [
    "assrules=apriori(transactions,min_support=0.03, min_confidence=0.7, min_lift=1.1, min_length=2)\n",
    "hasil=list(assrules)"
   ]
  },
  {
   "cell_type": "code",
   "execution_count": 17,
   "metadata": {},
   "outputs": [
    {
     "data": {
      "text/html": [
       "<div>\n",
       "<style scoped>\n",
       "    .dataframe tbody tr th:only-of-type {\n",
       "        vertical-align: middle;\n",
       "    }\n",
       "\n",
       "    .dataframe tbody tr th {\n",
       "        vertical-align: top;\n",
       "    }\n",
       "\n",
       "    .dataframe thead th {\n",
       "        text-align: right;\n",
       "    }\n",
       "</style>\n",
       "<table border=\"1\" class=\"dataframe\">\n",
       "  <thead>\n",
       "    <tr style=\"text-align: right;\">\n",
       "      <th></th>\n",
       "      <th>GeneralRules</th>\n",
       "      <th>LeftRules</th>\n",
       "      <th>RightRules</th>\n",
       "      <th>Support</th>\n",
       "      <th>Confidence</th>\n",
       "      <th>Lift</th>\n",
       "    </tr>\n",
       "  </thead>\n",
       "  <tbody>\n",
       "    <tr>\n",
       "      <th>0</th>\n",
       "      <td>GREEN REGENCY TEACUP AND SAUCER _&amp;&amp;_ PINK REGE...</td>\n",
       "      <td>PINK REGENCY TEACUP AND SAUCER</td>\n",
       "      <td>GREEN REGENCY TEACUP AND SAUCER</td>\n",
       "      <td>0.031436</td>\n",
       "      <td>0.826371</td>\n",
       "      <td>16.393893</td>\n",
       "    </tr>\n",
       "    <tr>\n",
       "      <th>1</th>\n",
       "      <td>ROSES REGENCY TEACUP AND SAUCER  _&amp;&amp;_ GREEN RE...</td>\n",
       "      <td>GREEN REGENCY TEACUP AND SAUCER</td>\n",
       "      <td>ROSES REGENCY TEACUP AND SAUCER</td>\n",
       "      <td>0.038141</td>\n",
       "      <td>0.756650</td>\n",
       "      <td>14.292598</td>\n",
       "    </tr>\n",
       "  </tbody>\n",
       "</table>\n",
       "</div>"
      ],
      "text/plain": [
       "                                        GeneralRules  \\\n",
       "0  GREEN REGENCY TEACUP AND SAUCER _&&_ PINK REGE...   \n",
       "1  ROSES REGENCY TEACUP AND SAUCER  _&&_ GREEN RE...   \n",
       "\n",
       "                         LeftRules                        RightRules  \\\n",
       "0   PINK REGENCY TEACUP AND SAUCER   GREEN REGENCY TEACUP AND SAUCER   \n",
       "1  GREEN REGENCY TEACUP AND SAUCER  ROSES REGENCY TEACUP AND SAUCER    \n",
       "\n",
       "    Support  Confidence       Lift  \n",
       "0  0.031436    0.826371  16.393893  \n",
       "1  0.038141    0.756650  14.292598  "
      ]
     },
     "execution_count": 17,
     "metadata": {},
     "output_type": "execute_result"
    }
   ],
   "source": [
    "# Visualising the result as a readeable dataframe\n",
    "final_results = pd.DataFrame(np.random.randint(low=0, high=1, size=(len(hasil), 6)), columns=['GeneralRules', 'LeftRules', 'RightRules', 'Support', 'Confidence', 'Lift'])\n",
    "index = 0\n",
    "for g, s, i in hasil:\n",
    "    final_results.iloc[index] = [' _&&_ '.join(list(g)), ' _&&_ '.join(list(i[0][0])), ' _&&_ '.join(list(i[0][1])), s, i[0][2], i[0][3]]\n",
    "    index = index+1\n",
    "# The most significant rules\n",
    "final_results1 = final_results.sort_values(\"Confidence\", ascending=0)\n",
    "final_results1"
   ]
  },
  {
   "cell_type": "code",
   "execution_count": 18,
   "metadata": {},
   "outputs": [
    {
     "name": "stdout",
     "output_type": "stream",
     "text": [
      "Rule #1:\n",
      "PINK REGENCY TEACUP AND SAUCER\n",
      "=> GREEN REGENCY TEACUP AND SAUCER\n",
      "Support: 0.031436233611442196 - Confidence: 0.8263707571801567 - Lift: 16.393893169043977\n",
      "--------------------\n",
      "Rule #2:\n",
      "GREEN REGENCY TEACUP AND SAUCER\n",
      "=> ROSES REGENCY TEACUP AND SAUCER \n",
      "Support: 0.03814064362336114 - Confidence: 0.7566502463054187 - Lift: 14.29259789831699\n",
      "--------------------\n"
     ]
    }
   ],
   "source": [
    "count=1\n",
    "for i, d in final_results1.head(10).iterrows():\n",
    "    print('Rule #'+str(count)+':')\n",
    "    print(d['LeftRules'])\n",
    "    print('=> '+d['RightRules'])\n",
    "    print('Support: '+str(d['Support'])+' - Confidence: '+str(d['Confidence'])+' - Lift: '+str(d['Lift']))\n",
    "    print('--------------------')\n",
    "    count=count+1"
   ]
  },
  {
   "cell_type": "code",
   "execution_count": 19,
   "metadata": {},
   "outputs": [],
   "source": [
    "final_results1.to_excel(r'E:\\2018_2019\\SEMESTER 6\\DATMIN\\ETS DATMIN\\hasil2.xlsx')"
   ]
  },
  {
   "cell_type": "code",
   "execution_count": 20,
   "metadata": {},
   "outputs": [
    {
     "data": {
      "text/plain": [
       "573585     1114\n",
       "581219      749\n",
       "581492      731\n",
       "580729      721\n",
       "558475      705\n",
       "579777      687\n",
       "581217      676\n",
       "537434      675\n",
       "580730      662\n",
       "538071      652\n",
       "580367      650\n",
       "580115      645\n",
       "581439      635\n",
       "580983      629\n",
       "578344      622\n",
       "538349      620\n",
       "578347      606\n",
       "537638      601\n",
       "537237      597\n",
       "536876      593\n",
       "576617      593\n",
       "536592      592\n",
       "537823      591\n",
       "576837      585\n",
       "579508      578\n",
       "577078      572\n",
       "537240      568\n",
       "577358      561\n",
       "576618      552\n",
       "576840      544\n",
       "           ... \n",
       "579743        1\n",
       "563597        1\n",
       "558890        1\n",
       "C537444       1\n",
       "C545437       1\n",
       "C542140       1\n",
       "C562884       1\n",
       "C542232       1\n",
       "547536        1\n",
       "561362        1\n",
       "C571045       1\n",
       "C565089       1\n",
       "568404        1\n",
       "579742        1\n",
       "C550966       1\n",
       "561638        1\n",
       "573293        1\n",
       "571249        1\n",
       "555580        1\n",
       "551240        1\n",
       "538241        1\n",
       "560651        1\n",
       "576193        1\n",
       "550979        1\n",
       "C561017       1\n",
       "C552765       1\n",
       "C579992       1\n",
       "544797        1\n",
       "549494        1\n",
       "560425        1\n",
       "Name: InvoiceNo, Length: 25900, dtype: int64"
      ]
     },
     "execution_count": 20,
     "metadata": {},
     "output_type": "execute_result"
    }
   ],
   "source": [
    "# Menghitung banyaknya transaksi\n",
    "data[\"InvoiceNo\"].value_counts()"
   ]
  },
  {
   "cell_type": "markdown",
   "metadata": {},
   "source": [
    "> Probabilitas pembelian produk “PINK REGENCY TEACUP AND SAUCER” dan “GREEN REGENCY TEACUP AND SAUCER” secara bersamaan yaitu 0,031436 dari keseluruhan transaksi. Berdasarkan pembelian produk “PINK REGENCY TEACUP AND SAUCER”, sebesar 82,63% pelanggan juga membeli produk “GREEN REGENCY TEACUP AND SAUCER”. Nilai Lift lebih besar dari 1 sehingga pelanggan yang membeli produk “PINK REGENCY TEACUP AND SAUCER” memiliki kencerungan tinggi untuk membeli produk “GREEN REGENCY TEACUP AND SAUCER”."
   ]
  },
  {
   "cell_type": "markdown",
   "metadata": {},
   "source": [
    "> Probabilitas pelanggan membeli produk “GREEN REGENCY TEACUP AND SAUCER” dan “ROSES REGENCY TEACUP AND SAUCER” yaitu sebesar 0,038141 atau sebesar 3.8141% produk “GREEN REGENCY TEACUP AND SAUCER” dan “ROSES REGENCY TEACUP AND SAUCER” dibeli secara bersamaan dari keseluruhan transaksi. Persentase pelanggan membeli produk “ROSES REGENCY TEACUP AND SAUCER” sebesar 75,665% dari pembelian produk “GREEN REGENCY TEACUP AND SAUCER”. Sedangkan nilai Lift yang lebih besar dari 1 berarti pelanggan yang membeli produk “GREEN REGENCY TEACUP AND SAUCER” memiliki kecenderungan tinggi untuk membeli “ROSES REGENCY TEACUP AND SAUCER”."
   ]
  },
  {
   "cell_type": "code",
   "execution_count": null,
   "metadata": {},
   "outputs": [],
   "source": []
  }
 ],
 "metadata": {
  "kernelspec": {
   "display_name": "Python 3",
   "language": "python",
   "name": "python3"
  },
  "language_info": {
   "codemirror_mode": {
    "name": "ipython",
    "version": 3
   },
   "file_extension": ".py",
   "mimetype": "text/x-python",
   "name": "python",
   "nbconvert_exporter": "python",
   "pygments_lexer": "ipython3",
   "version": "3.7.1"
  }
 },
 "nbformat": 4,
 "nbformat_minor": 2
}
